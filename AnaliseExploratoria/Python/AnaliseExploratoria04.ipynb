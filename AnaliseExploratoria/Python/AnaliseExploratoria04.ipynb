{
 "cells": [
  {
   "cell_type": "code",
   "execution_count": 1,
   "metadata": {},
   "outputs": [],
   "source": [
    "import pandas as pd\n",
    "import numpy as np\n",
    "%matplotlib inline"
   ]
  },
  {
   "cell_type": "code",
   "execution_count": 2,
   "metadata": {},
   "outputs": [
    {
     "name": "stdout",
     "output_type": "stream",
     "text": [
      "Python 3.7.6\n"
     ]
    }
   ],
   "source": [
    "# Versões dos pacotes usadas neste Jupyter Notebook\n",
    "!python --version\n",
    "# %reload_ext watermark\n",
    "# %watermark -a \"Mentoria DSA\" --iversions"
   ]
  },
  {
   "cell_type": "code",
   "execution_count": 3,
   "metadata": {},
   "outputs": [],
   "source": [
    "# Carregamento do dataset\n",
    "df = pd.read_csv(\"../../../../properati-BR-2016-11-01-properties-sell.csv\")"
   ]
  },
  {
   "cell_type": "code",
   "execution_count": 4,
   "metadata": {},
   "outputs": [
    {
     "data": {
      "text/html": [
       "<div>\n",
       "<style scoped>\n",
       "    .dataframe tbody tr th:only-of-type {\n",
       "        vertical-align: middle;\n",
       "    }\n",
       "\n",
       "    .dataframe tbody tr th {\n",
       "        vertical-align: top;\n",
       "    }\n",
       "\n",
       "    .dataframe thead th {\n",
       "        text-align: right;\n",
       "    }\n",
       "</style>\n",
       "<table border=\"1\" class=\"dataframe\">\n",
       "  <thead>\n",
       "    <tr style=\"text-align: right;\">\n",
       "      <th></th>\n",
       "      <th>created_on</th>\n",
       "      <th>operation</th>\n",
       "      <th>property_type</th>\n",
       "      <th>place_name</th>\n",
       "      <th>place_with_parent_names</th>\n",
       "      <th>geonames_id</th>\n",
       "      <th>lat-lon</th>\n",
       "      <th>lat</th>\n",
       "      <th>lon</th>\n",
       "      <th>price</th>\n",
       "      <th>...</th>\n",
       "      <th>surface_covered_in_m2</th>\n",
       "      <th>price_usd_per_m2</th>\n",
       "      <th>price_per_m2</th>\n",
       "      <th>floor</th>\n",
       "      <th>rooms</th>\n",
       "      <th>expenses</th>\n",
       "      <th>properati_url</th>\n",
       "      <th>description</th>\n",
       "      <th>title</th>\n",
       "      <th>image_thumbnail</th>\n",
       "    </tr>\n",
       "  </thead>\n",
       "  <tbody>\n",
       "    <tr>\n",
       "      <th>0</th>\n",
       "      <td>2013-04-25</td>\n",
       "      <td>sell</td>\n",
       "      <td>apartment</td>\n",
       "      <td>Mondubim</td>\n",
       "      <td>|Brasil|Ceará|Fortaleza|Mondubim|</td>\n",
       "      <td>NaN</td>\n",
       "      <td>NaN</td>\n",
       "      <td>NaN</td>\n",
       "      <td>NaN</td>\n",
       "      <td>155900.0</td>\n",
       "      <td>...</td>\n",
       "      <td>NaN</td>\n",
       "      <td>NaN</td>\n",
       "      <td>NaN</td>\n",
       "      <td>NaN</td>\n",
       "      <td>2.0</td>\n",
       "      <td>NaN</td>\n",
       "      <td>http://mondubim.properati.com.br/px9_vende-se_...</td>\n",
       "      <td>Otimo Imovel com o melhor valor da regiao, con...</td>\n",
       "      <td>Apartamento Em Fortaleza</td>\n",
       "      <td>https://thumbs-cf.properati.com/8/EY670SQWML7c...</td>\n",
       "    </tr>\n",
       "    <tr>\n",
       "      <th>1</th>\n",
       "      <td>2013-04-25</td>\n",
       "      <td>sell</td>\n",
       "      <td>house</td>\n",
       "      <td>Manhuaçu</td>\n",
       "      <td>|Brasil|Minas Gerais|Manhuaçu|</td>\n",
       "      <td>NaN</td>\n",
       "      <td>NaN</td>\n",
       "      <td>NaN</td>\n",
       "      <td>NaN</td>\n",
       "      <td>950000.0</td>\n",
       "      <td>...</td>\n",
       "      <td>NaN</td>\n",
       "      <td>NaN</td>\n",
       "      <td>NaN</td>\n",
       "      <td>NaN</td>\n",
       "      <td>NaN</td>\n",
       "      <td>NaN</td>\n",
       "      <td>http://manhuacu.properati.com.br/pxv_vende-se_...</td>\n",
       "      <td>Otimo Imovel com o melhor valor da regiao, con...</td>\n",
       "      <td>Casa Em Manhuacu</td>\n",
       "      <td>https://thumbs-cf.properati.com/1/1VGQees9LIbx...</td>\n",
       "    </tr>\n",
       "    <tr>\n",
       "      <th>2</th>\n",
       "      <td>2013-04-25</td>\n",
       "      <td>sell</td>\n",
       "      <td>house</td>\n",
       "      <td>Ibatiba</td>\n",
       "      <td>|Brasil|Espírito Santo|Ibatiba|</td>\n",
       "      <td>NaN</td>\n",
       "      <td>NaN</td>\n",
       "      <td>NaN</td>\n",
       "      <td>NaN</td>\n",
       "      <td>NaN</td>\n",
       "      <td>...</td>\n",
       "      <td>NaN</td>\n",
       "      <td>NaN</td>\n",
       "      <td>NaN</td>\n",
       "      <td>NaN</td>\n",
       "      <td>NaN</td>\n",
       "      <td>NaN</td>\n",
       "      <td>http://ibatiba.properati.com.br/pxw_vende-se_o...</td>\n",
       "      <td>Otimo Imovel com o melhor valor da regiao, con...</td>\n",
       "      <td>Sítio Em Ibatiba</td>\n",
       "      <td>NaN</td>\n",
       "    </tr>\n",
       "    <tr>\n",
       "      <th>3</th>\n",
       "      <td>2013-04-25</td>\n",
       "      <td>sell</td>\n",
       "      <td>apartment</td>\n",
       "      <td>Manhuaçu</td>\n",
       "      <td>|Brasil|Minas Gerais|Manhuaçu|</td>\n",
       "      <td>NaN</td>\n",
       "      <td>NaN</td>\n",
       "      <td>NaN</td>\n",
       "      <td>NaN</td>\n",
       "      <td>NaN</td>\n",
       "      <td>...</td>\n",
       "      <td>NaN</td>\n",
       "      <td>NaN</td>\n",
       "      <td>NaN</td>\n",
       "      <td>NaN</td>\n",
       "      <td>NaN</td>\n",
       "      <td>NaN</td>\n",
       "      <td>http://manhuacu.properati.com.br/pxy_vende-se_...</td>\n",
       "      <td>Otimo Imovel com o melhor valor da regiao, con...</td>\n",
       "      <td>Apartamento Em Manhuacu</td>\n",
       "      <td>NaN</td>\n",
       "    </tr>\n",
       "    <tr>\n",
       "      <th>4</th>\n",
       "      <td>2013-04-25</td>\n",
       "      <td>sell</td>\n",
       "      <td>apartment</td>\n",
       "      <td>Manhuaçu</td>\n",
       "      <td>|Brasil|Minas Gerais|Manhuaçu|</td>\n",
       "      <td>NaN</td>\n",
       "      <td>NaN</td>\n",
       "      <td>NaN</td>\n",
       "      <td>NaN</td>\n",
       "      <td>NaN</td>\n",
       "      <td>...</td>\n",
       "      <td>NaN</td>\n",
       "      <td>NaN</td>\n",
       "      <td>NaN</td>\n",
       "      <td>NaN</td>\n",
       "      <td>NaN</td>\n",
       "      <td>NaN</td>\n",
       "      <td>http://manhuacu.properati.com.br/pxz_vende-se_...</td>\n",
       "      <td>Otimo Imovel com o melhor valor da regiao, con...</td>\n",
       "      <td>Apartamento Em Manhuacu</td>\n",
       "      <td>https://thumbs-cf.properati.com/2/UhPHI8dsNCb4...</td>\n",
       "    </tr>\n",
       "  </tbody>\n",
       "</table>\n",
       "<p>5 rows × 24 columns</p>\n",
       "</div>"
      ],
      "text/plain": [
       "   created_on operation property_type place_name  \\\n",
       "0  2013-04-25      sell     apartment   Mondubim   \n",
       "1  2013-04-25      sell         house   Manhuaçu   \n",
       "2  2013-04-25      sell         house    Ibatiba   \n",
       "3  2013-04-25      sell     apartment   Manhuaçu   \n",
       "4  2013-04-25      sell     apartment   Manhuaçu   \n",
       "\n",
       "             place_with_parent_names  geonames_id lat-lon  lat  lon     price  \\\n",
       "0  |Brasil|Ceará|Fortaleza|Mondubim|          NaN     NaN  NaN  NaN  155900.0   \n",
       "1     |Brasil|Minas Gerais|Manhuaçu|          NaN     NaN  NaN  NaN  950000.0   \n",
       "2    |Brasil|Espírito Santo|Ibatiba|          NaN     NaN  NaN  NaN       NaN   \n",
       "3     |Brasil|Minas Gerais|Manhuaçu|          NaN     NaN  NaN  NaN       NaN   \n",
       "4     |Brasil|Minas Gerais|Manhuaçu|          NaN     NaN  NaN  NaN       NaN   \n",
       "\n",
       "   ... surface_covered_in_m2  price_usd_per_m2  price_per_m2  floor  rooms  \\\n",
       "0  ...                   NaN               NaN           NaN    NaN    2.0   \n",
       "1  ...                   NaN               NaN           NaN    NaN    NaN   \n",
       "2  ...                   NaN               NaN           NaN    NaN    NaN   \n",
       "3  ...                   NaN               NaN           NaN    NaN    NaN   \n",
       "4  ...                   NaN               NaN           NaN    NaN    NaN   \n",
       "\n",
       "   expenses                                      properati_url  \\\n",
       "0       NaN  http://mondubim.properati.com.br/px9_vende-se_...   \n",
       "1       NaN  http://manhuacu.properati.com.br/pxv_vende-se_...   \n",
       "2       NaN  http://ibatiba.properati.com.br/pxw_vende-se_o...   \n",
       "3       NaN  http://manhuacu.properati.com.br/pxy_vende-se_...   \n",
       "4       NaN  http://manhuacu.properati.com.br/pxz_vende-se_...   \n",
       "\n",
       "                                         description  \\\n",
       "0  Otimo Imovel com o melhor valor da regiao, con...   \n",
       "1  Otimo Imovel com o melhor valor da regiao, con...   \n",
       "2  Otimo Imovel com o melhor valor da regiao, con...   \n",
       "3  Otimo Imovel com o melhor valor da regiao, con...   \n",
       "4  Otimo Imovel com o melhor valor da regiao, con...   \n",
       "\n",
       "                      title                                    image_thumbnail  \n",
       "0  Apartamento Em Fortaleza  https://thumbs-cf.properati.com/8/EY670SQWML7c...  \n",
       "1          Casa Em Manhuacu  https://thumbs-cf.properati.com/1/1VGQees9LIbx...  \n",
       "2          Sítio Em Ibatiba                                                NaN  \n",
       "3   Apartamento Em Manhuacu                                                NaN  \n",
       "4   Apartamento Em Manhuacu  https://thumbs-cf.properati.com/2/UhPHI8dsNCb4...  \n",
       "\n",
       "[5 rows x 24 columns]"
      ]
     },
     "execution_count": 4,
     "metadata": {},
     "output_type": "execute_result"
    }
   ],
   "source": [
    "df.head()"
   ]
  },
  {
   "cell_type": "code",
   "execution_count": 5,
   "metadata": {},
   "outputs": [
    {
     "data": {
      "text/plain": [
       "(872672, 24)"
      ]
     },
     "execution_count": 5,
     "metadata": {},
     "output_type": "execute_result"
    }
   ],
   "source": [
    "# Dimensão do dataset\n",
    "df.shape"
   ]
  },
  {
   "cell_type": "code",
   "execution_count": null,
   "metadata": {},
   "outputs": [],
   "source": [
    "# Os tipos dos atributos\n",
    "df.dtypes"
   ]
  },
  {
   "cell_type": "code",
   "execution_count": 6,
   "metadata": {},
   "outputs": [],
   "source": [
    "# número total de valores missing\n",
    "missing_values = list(df.isnull().sum())\n",
    "\n",
    "\n",
    "# nome das colunas\n",
    "attributes = list(df.columns)\n",
    "\n",
    "# novas colunas\n",
    "columns = [\"variable\", \"MissingValues\"]"
   ]
  },
  {
   "cell_type": "code",
   "execution_count": 7,
   "metadata": {},
   "outputs": [],
   "source": [
    "# criação de dataframe para identificar a porcentagem de valor missing de atributo\n",
    "df_percentage = pd.DataFrame(list(zip(attributes, missing_values)),\n",
    "                            columns=columns)\n",
    "\n",
    "#criação da coluna porcentagem\n",
    "df_percentage['percentage'] = (df_percentage['MissingValues']/df.shape[0])*100"
   ]
  },
  {
   "cell_type": "code",
   "execution_count": 8,
   "metadata": {},
   "outputs": [
    {
     "data": {
      "text/html": [
       "<div>\n",
       "<style scoped>\n",
       "    .dataframe tbody tr th:only-of-type {\n",
       "        vertical-align: middle;\n",
       "    }\n",
       "\n",
       "    .dataframe tbody tr th {\n",
       "        vertical-align: top;\n",
       "    }\n",
       "\n",
       "    .dataframe thead th {\n",
       "        text-align: right;\n",
       "    }\n",
       "</style>\n",
       "<table border=\"1\" class=\"dataframe\">\n",
       "  <thead>\n",
       "    <tr style=\"text-align: right;\">\n",
       "      <th></th>\n",
       "      <th>variable</th>\n",
       "      <th>MissingValues</th>\n",
       "      <th>percentage</th>\n",
       "    </tr>\n",
       "  </thead>\n",
       "  <tbody>\n",
       "    <tr>\n",
       "      <th>0</th>\n",
       "      <td>created_on</td>\n",
       "      <td>0</td>\n",
       "      <td>0.000000</td>\n",
       "    </tr>\n",
       "    <tr>\n",
       "      <th>1</th>\n",
       "      <td>operation</td>\n",
       "      <td>0</td>\n",
       "      <td>0.000000</td>\n",
       "    </tr>\n",
       "    <tr>\n",
       "      <th>2</th>\n",
       "      <td>property_type</td>\n",
       "      <td>0</td>\n",
       "      <td>0.000000</td>\n",
       "    </tr>\n",
       "    <tr>\n",
       "      <th>3</th>\n",
       "      <td>place_name</td>\n",
       "      <td>0</td>\n",
       "      <td>0.000000</td>\n",
       "    </tr>\n",
       "    <tr>\n",
       "      <th>4</th>\n",
       "      <td>place_with_parent_names</td>\n",
       "      <td>0</td>\n",
       "      <td>0.000000</td>\n",
       "    </tr>\n",
       "    <tr>\n",
       "      <th>5</th>\n",
       "      <td>geonames_id</td>\n",
       "      <td>872532</td>\n",
       "      <td>99.983957</td>\n",
       "    </tr>\n",
       "    <tr>\n",
       "      <th>6</th>\n",
       "      <td>lat-lon</td>\n",
       "      <td>485445</td>\n",
       "      <td>55.627429</td>\n",
       "    </tr>\n",
       "    <tr>\n",
       "      <th>7</th>\n",
       "      <td>lat</td>\n",
       "      <td>485445</td>\n",
       "      <td>55.627429</td>\n",
       "    </tr>\n",
       "    <tr>\n",
       "      <th>8</th>\n",
       "      <td>lon</td>\n",
       "      <td>485445</td>\n",
       "      <td>55.627429</td>\n",
       "    </tr>\n",
       "    <tr>\n",
       "      <th>9</th>\n",
       "      <td>price</td>\n",
       "      <td>53271</td>\n",
       "      <td>6.104355</td>\n",
       "    </tr>\n",
       "    <tr>\n",
       "      <th>10</th>\n",
       "      <td>currency</td>\n",
       "      <td>53290</td>\n",
       "      <td>6.106533</td>\n",
       "    </tr>\n",
       "    <tr>\n",
       "      <th>11</th>\n",
       "      <td>price_aprox_local_currency</td>\n",
       "      <td>53271</td>\n",
       "      <td>6.104355</td>\n",
       "    </tr>\n",
       "    <tr>\n",
       "      <th>12</th>\n",
       "      <td>price_aprox_usd</td>\n",
       "      <td>53271</td>\n",
       "      <td>6.104355</td>\n",
       "    </tr>\n",
       "    <tr>\n",
       "      <th>13</th>\n",
       "      <td>surface_total_in_m2</td>\n",
       "      <td>655738</td>\n",
       "      <td>75.141405</td>\n",
       "    </tr>\n",
       "    <tr>\n",
       "      <th>14</th>\n",
       "      <td>surface_covered_in_m2</td>\n",
       "      <td>239432</td>\n",
       "      <td>27.436654</td>\n",
       "    </tr>\n",
       "    <tr>\n",
       "      <th>15</th>\n",
       "      <td>price_usd_per_m2</td>\n",
       "      <td>283491</td>\n",
       "      <td>32.485401</td>\n",
       "    </tr>\n",
       "    <tr>\n",
       "      <th>16</th>\n",
       "      <td>price_per_m2</td>\n",
       "      <td>283491</td>\n",
       "      <td>32.485401</td>\n",
       "    </tr>\n",
       "    <tr>\n",
       "      <th>17</th>\n",
       "      <td>floor</td>\n",
       "      <td>821878</td>\n",
       "      <td>94.179486</td>\n",
       "    </tr>\n",
       "    <tr>\n",
       "      <th>18</th>\n",
       "      <td>rooms</td>\n",
       "      <td>330926</td>\n",
       "      <td>37.921006</td>\n",
       "    </tr>\n",
       "    <tr>\n",
       "      <th>19</th>\n",
       "      <td>expenses</td>\n",
       "      <td>639354</td>\n",
       "      <td>73.263953</td>\n",
       "    </tr>\n",
       "    <tr>\n",
       "      <th>20</th>\n",
       "      <td>properati_url</td>\n",
       "      <td>0</td>\n",
       "      <td>0.000000</td>\n",
       "    </tr>\n",
       "    <tr>\n",
       "      <th>21</th>\n",
       "      <td>description</td>\n",
       "      <td>0</td>\n",
       "      <td>0.000000</td>\n",
       "    </tr>\n",
       "    <tr>\n",
       "      <th>22</th>\n",
       "      <td>title</td>\n",
       "      <td>0</td>\n",
       "      <td>0.000000</td>\n",
       "    </tr>\n",
       "    <tr>\n",
       "      <th>23</th>\n",
       "      <td>image_thumbnail</td>\n",
       "      <td>38665</td>\n",
       "      <td>4.430645</td>\n",
       "    </tr>\n",
       "  </tbody>\n",
       "</table>\n",
       "</div>"
      ],
      "text/plain": [
       "                      variable  MissingValues  percentage\n",
       "0                   created_on              0    0.000000\n",
       "1                    operation              0    0.000000\n",
       "2                property_type              0    0.000000\n",
       "3                   place_name              0    0.000000\n",
       "4      place_with_parent_names              0    0.000000\n",
       "5                  geonames_id         872532   99.983957\n",
       "6                      lat-lon         485445   55.627429\n",
       "7                          lat         485445   55.627429\n",
       "8                          lon         485445   55.627429\n",
       "9                        price          53271    6.104355\n",
       "10                    currency          53290    6.106533\n",
       "11  price_aprox_local_currency          53271    6.104355\n",
       "12             price_aprox_usd          53271    6.104355\n",
       "13         surface_total_in_m2         655738   75.141405\n",
       "14       surface_covered_in_m2         239432   27.436654\n",
       "15            price_usd_per_m2         283491   32.485401\n",
       "16                price_per_m2         283491   32.485401\n",
       "17                       floor         821878   94.179486\n",
       "18                       rooms         330926   37.921006\n",
       "19                    expenses         639354   73.263953\n",
       "20               properati_url              0    0.000000\n",
       "21                 description              0    0.000000\n",
       "22                       title              0    0.000000\n",
       "23             image_thumbnail          38665    4.430645"
      ]
     },
     "execution_count": 8,
     "metadata": {},
     "output_type": "execute_result"
    }
   ],
   "source": [
    "df_percentage"
   ]
  },
  {
   "cell_type": "code",
   "execution_count": 9,
   "metadata": {},
   "outputs": [
    {
     "data": {
      "text/plain": [
       "created_on                         0\n",
       "operation                          0\n",
       "property_type                      0\n",
       "place_name                         0\n",
       "place_with_parent_names            0\n",
       "geonames_id                   872532\n",
       "lat-lon                       485445\n",
       "lat                           485445\n",
       "lon                           485445\n",
       "price                          53271\n",
       "currency                       53290\n",
       "price_aprox_local_currency     53271\n",
       "price_aprox_usd                53271\n",
       "surface_total_in_m2           655738\n",
       "surface_covered_in_m2         239432\n",
       "price_usd_per_m2              283491\n",
       "price_per_m2                  283491\n",
       "floor                         821878\n",
       "rooms                         330926\n",
       "expenses                      639354\n",
       "properati_url                      0\n",
       "description                        0\n",
       "title                              0\n",
       "image_thumbnail                38665\n",
       "dtype: int64"
      ]
     },
     "execution_count": 9,
     "metadata": {},
     "output_type": "execute_result"
    }
   ],
   "source": [
    "# valores missing total de cada atributo\n",
    "df.isnull().sum()"
   ]
  },
  {
   "cell_type": "code",
   "execution_count": 10,
   "metadata": {},
   "outputs": [],
   "source": [
    "# separar o endereço em três colunas\n",
    "df_adress = df['place_with_parent_names'].str.split('|', n=5 , expand=True)\n",
    "\n",
    "# renomear as novas colunas\n",
    "df_adress = df_adress.rename(columns={1: \"Pais\", 2: \"Estado\", 3: \"Cidade\", 4: \"Bairro\"})\n",
    "\n",
    "# remoção das colunas criadas 0, 5 (criadas para auxiliar na separação das colunas)\n",
    "del df_adress[0]\n",
    "del df_adress[5]"
   ]
  },
  {
   "cell_type": "code",
   "execution_count": 11,
   "metadata": {},
   "outputs": [],
   "source": [
    "# criação do novo dataset\n",
    "new_df = pd.concat([df, df_adress], axis=1)"
   ]
  },
  {
   "cell_type": "code",
   "execution_count": 12,
   "metadata": {},
   "outputs": [
    {
     "data": {
      "text/html": [
       "<div>\n",
       "<style scoped>\n",
       "    .dataframe tbody tr th:only-of-type {\n",
       "        vertical-align: middle;\n",
       "    }\n",
       "\n",
       "    .dataframe tbody tr th {\n",
       "        vertical-align: top;\n",
       "    }\n",
       "\n",
       "    .dataframe thead th {\n",
       "        text-align: right;\n",
       "    }\n",
       "</style>\n",
       "<table border=\"1\" class=\"dataframe\">\n",
       "  <thead>\n",
       "    <tr style=\"text-align: right;\">\n",
       "      <th></th>\n",
       "      <th>variable</th>\n",
       "      <th>MissingValues</th>\n",
       "      <th>percentage</th>\n",
       "    </tr>\n",
       "  </thead>\n",
       "  <tbody>\n",
       "    <tr>\n",
       "      <th>5</th>\n",
       "      <td>geonames_id</td>\n",
       "      <td>872532</td>\n",
       "      <td>99.983957</td>\n",
       "    </tr>\n",
       "    <tr>\n",
       "      <th>6</th>\n",
       "      <td>lat-lon</td>\n",
       "      <td>485445</td>\n",
       "      <td>55.627429</td>\n",
       "    </tr>\n",
       "    <tr>\n",
       "      <th>7</th>\n",
       "      <td>lat</td>\n",
       "      <td>485445</td>\n",
       "      <td>55.627429</td>\n",
       "    </tr>\n",
       "    <tr>\n",
       "      <th>8</th>\n",
       "      <td>lon</td>\n",
       "      <td>485445</td>\n",
       "      <td>55.627429</td>\n",
       "    </tr>\n",
       "    <tr>\n",
       "      <th>13</th>\n",
       "      <td>surface_total_in_m2</td>\n",
       "      <td>655738</td>\n",
       "      <td>75.141405</td>\n",
       "    </tr>\n",
       "    <tr>\n",
       "      <th>17</th>\n",
       "      <td>floor</td>\n",
       "      <td>821878</td>\n",
       "      <td>94.179486</td>\n",
       "    </tr>\n",
       "    <tr>\n",
       "      <th>19</th>\n",
       "      <td>expenses</td>\n",
       "      <td>639354</td>\n",
       "      <td>73.263953</td>\n",
       "    </tr>\n",
       "  </tbody>\n",
       "</table>\n",
       "</div>"
      ],
      "text/plain": [
       "               variable  MissingValues  percentage\n",
       "5           geonames_id         872532   99.983957\n",
       "6               lat-lon         485445   55.627429\n",
       "7                   lat         485445   55.627429\n",
       "8                   lon         485445   55.627429\n",
       "13  surface_total_in_m2         655738   75.141405\n",
       "17                floor         821878   94.179486\n",
       "19             expenses         639354   73.263953"
      ]
     },
     "execution_count": 12,
     "metadata": {},
     "output_type": "execute_result"
    }
   ],
   "source": [
    "df_percentage[df_percentage['percentage']>50]"
   ]
  },
  {
   "cell_type": "code",
   "execution_count": 13,
   "metadata": {},
   "outputs": [],
   "source": [
    "# Remoção de colunas insignificantes\n",
    "del new_df['geonames_id']\n",
    "del new_df['lat-lon']\n",
    "del new_df['lat']\n",
    "del new_df['lon']\n",
    "del new_df['floor']\n",
    "del new_df['surface_total_in_m2']\n",
    "del new_df['expenses']\n",
    "del new_df['image_thumbnail']\n",
    "del new_df['title']\n",
    "del new_df['properati_url']\n",
    "del new_df['description']\n",
    "del new_df['operation']\n",
    "del new_df['place_with_parent_names']"
   ]
  },
  {
   "cell_type": "code",
   "execution_count": 14,
   "metadata": {},
   "outputs": [
    {
     "name": "stdout",
     "output_type": "stream",
     "text": [
      "2015-04-09    28963\n",
      "2016-06-15    19658\n",
      "2016-06-08    17450\n",
      "2016-06-16    13438\n",
      "2016-02-19    12658\n",
      "              ...  \n",
      "2013-07-09        1\n",
      "2013-12-08        1\n",
      "2013-12-29        1\n",
      "2013-10-16        1\n",
      "2013-11-28        1\n",
      "Name: created_on, Length: 1043, dtype: int64\n",
      "\n",
      "\n",
      "apartment    567135\n",
      "house        270704\n",
      "store         27397\n",
      "PH             7436\n",
      "Name: property_type, dtype: int64\n",
      "\n",
      "\n",
      "Praia Grande                               53076\n",
      "Porto Alegre                               41119\n",
      "Centro                                     26773\n",
      "Santo André                                22933\n",
      "São Paulo                                  15736\n",
      "                                           ...  \n",
      "Jardim Domingos de Léo                         1\n",
      "Lutécia                                        1\n",
      "Rolândia                                       1\n",
      "Conjunto Residencial Vale dos Pinheiros        1\n",
      "Jardim Coqueiro                                1\n",
      "Name: place_name, Length: 5225, dtype: int64\n",
      "\n",
      "\n",
      "350000.0     14398\n",
      "450000.0     13947\n",
      "550000.0     11825\n",
      "650000.0     11714\n",
      "320000.0     11506\n",
      "             ...  \n",
      "1242300.0        1\n",
      "1242344.0        1\n",
      "1242400.0        1\n",
      "310619.0         1\n",
      "1081298.0        1\n",
      "Name: price, Length: 31139, dtype: int64\n",
      "\n",
      "\n",
      "BRL    818952\n",
      "USD       234\n",
      "MXN       196\n",
      "Name: currency, dtype: int64\n",
      "\n",
      "\n",
      "349344.66     12104\n",
      "449157.45     11756\n",
      "548970.21      9979\n",
      "648782.97      9776\n",
      "319400.84      9616\n",
      "              ...  \n",
      "527731.06         1\n",
      "363084.88         1\n",
      "1023388.29        1\n",
      "1023380.29        1\n",
      "1338478.22        1\n",
      "Name: price_aprox_local_currency, Length: 38535, dtype: int64\n",
      "\n",
      "\n",
      "109217.99    12104\n",
      "140423.14    11756\n",
      "171628.28     9979\n",
      "202833.42     9776\n",
      "99856.45      9616\n",
      "             ...  \n",
      "266141.79        1\n",
      "10379.23         1\n",
      "264285.71        1\n",
      "310715.23        1\n",
      "174368.40        1\n",
      "Name: price_aprox_usd, Length: 38535, dtype: int64\n",
      "\n",
      "\n",
      "70.0      14756\n",
      "60.0      12940\n",
      "50.0      12123\n",
      "80.0      11574\n",
      "100.0     10828\n",
      "          ...  \n",
      "4444.0        1\n",
      "1109.0        1\n",
      "3960.0        1\n",
      "4419.0        1\n",
      "4123.0        1\n",
      "Name: surface_covered_in_m2, Length: 1916, dtype: int64\n",
      "\n",
      "\n",
      "1560.257000    1029\n",
      "1248.205700     703\n",
      "1404.231400     692\n",
      "1497.846800     612\n",
      "1248.205667     562\n",
      "               ... \n",
      "1402.622887       1\n",
      "1122.042791       1\n",
      "3638.062927       1\n",
      "3050.302600       1\n",
      "2059.012804       1\n",
      "Name: price_usd_per_m2, Length: 139474, dtype: int64\n",
      "\n",
      "\n",
      "5000.000000     6877\n",
      "4000.000000     4289\n",
      "10000.000000    3235\n",
      "3333.333333     2989\n",
      "3000.000000     2738\n",
      "                ... \n",
      "11701.980198       1\n",
      "701.754386         1\n",
      "3776.666667        1\n",
      "14147.545455       1\n",
      "4367.338462        1\n",
      "Name: price_per_m2, Length: 79923, dtype: int64\n",
      "\n",
      "\n",
      "1.0     221926\n",
      "2.0     165954\n",
      "3.0     101426\n",
      "4.0      29104\n",
      "5.0       6133\n",
      "6.0       3555\n",
      "8.0       2563\n",
      "7.0       2479\n",
      "10.0      2007\n",
      "9.0       1647\n",
      "12.0      1352\n",
      "11.0       912\n",
      "14.0       576\n",
      "15.0       547\n",
      "13.0       536\n",
      "16.0       262\n",
      "18.0       192\n",
      "20.0       156\n",
      "17.0       124\n",
      "19.0        57\n",
      "21.0        53\n",
      "22.0        48\n",
      "25.0        31\n",
      "30.0        28\n",
      "23.0        20\n",
      "24.0        19\n",
      "27.0        11\n",
      "33.0         8\n",
      "28.0         4\n",
      "36.0         4\n",
      "26.0         3\n",
      "32.0         3\n",
      "35.0         2\n",
      "31.0         2\n",
      "29.0         1\n",
      "34.0         1\n",
      "Name: rooms, dtype: int64\n",
      "\n",
      "\n",
      "Brasil            872532\n",
      "Estados Unidos       140\n",
      "Name: Pais, dtype: int64\n",
      "\n",
      "\n",
      "São Paulo              611998\n",
      "Rio Grande do Sul       88342\n",
      "Rio de Janeiro          58567\n",
      "Minas Gerais            27063\n",
      "Santa Catarina          26328\n",
      "Paraná                  16228\n",
      "Ceará                    8427\n",
      "Bahia                    8225\n",
      "Espírito Santo           6208\n",
      "Paraíba                  4310\n",
      "Rio Grande do Norte      3609\n",
      "Distrito Federal         2767\n",
      "Goiás                    2274\n",
      "Pernambuco               2162\n",
      "Mato Grosso              1786\n",
      "Pará                     1158\n",
      "Alagoas                   608\n",
      "Maranhão                  557\n",
      "Sergipe                   488\n",
      "Amazonas                  413\n",
      "Tocantins                 282\n",
      "Mato Grosso do Sul        266\n",
      "Rondônia                  158\n",
      "Piauí                     158\n",
      "Miami                     140\n",
      "Amapá                     132\n",
      "Acre                       15\n",
      "Roraima                     3\n",
      "Name: Estado, dtype: int64\n",
      "\n",
      "\n",
      "São Paulo         296357\n",
      "Porto Alegre       62916\n",
      "Praia Grande       53370\n",
      "Rio de Janeiro     40366\n",
      "Santo André        31959\n",
      "                   ...  \n",
      "Biritiba-Mirim         1\n",
      "Mercês                 1\n",
      "Porto Real             1\n",
      "Contenda               1\n",
      "Ouro Branco            1\n",
      "Name: Cidade, Length: 1130, dtype: int64\n",
      "\n",
      "\n",
      "                               292854\n",
      "Centro                          26773\n",
      "Morumbi                         10149\n",
      "Campo Belo                       9474\n",
      "Moema                            9293\n",
      "                                ...  \n",
      "Parque Valença II                   1\n",
      "Setor Empresarial                   1\n",
      "Jesus de Nazareth                   1\n",
      "Jardim Aloha                        1\n",
      "Jardim Village Saint Claire         1\n",
      "Name: Bairro, Length: 4234, dtype: int64\n",
      "\n",
      "\n"
     ]
    }
   ],
   "source": [
    "for i in new_df:\n",
    "    print(new_df[i].value_counts())\n",
    "    print('\\n')"
   ]
  },
  {
   "cell_type": "code",
   "execution_count": 15,
   "metadata": {},
   "outputs": [
    {
     "data": {
      "text/plain": [
       "(872672, 15)"
      ]
     },
     "execution_count": 15,
     "metadata": {},
     "output_type": "execute_result"
    }
   ],
   "source": [
    "new_df.shape"
   ]
  },
  {
   "cell_type": "code",
   "execution_count": 16,
   "metadata": {},
   "outputs": [],
   "source": [
    "# Remoção de registros com moedas e paises estrangeiros\n",
    "new_df = new_df[new_df['Pais'] != 'Estados Unidos']\n",
    "new_df = new_df[new_df.currency == \"BRL\"]"
   ]
  },
  {
   "cell_type": "code",
   "execution_count": 17,
   "metadata": {},
   "outputs": [],
   "source": [
    "# Com os registros de informações estrangeiras removidas, pode-se remover a coluna currency e país, uma\n",
    "# vez que será um valor único para todo o dataset.\n",
    "del new_df['currency']\n",
    "del new_df['Pais']"
   ]
  },
  {
   "cell_type": "code",
   "execution_count": 18,
   "metadata": {},
   "outputs": [
    {
     "data": {
      "text/plain": [
       "(818828, 13)"
      ]
     },
     "execution_count": 18,
     "metadata": {},
     "output_type": "execute_result"
    }
   ],
   "source": [
    "new_df.shape"
   ]
  },
  {
   "cell_type": "code",
   "execution_count": 19,
   "metadata": {},
   "outputs": [
    {
     "data": {
      "text/plain": [
       "3165"
      ]
     },
     "execution_count": 19,
     "metadata": {},
     "output_type": "execute_result"
    }
   ],
   "source": [
    "# Studying of Bairros - missing values\n",
    "new_df['Bairro'].isnull().sum()"
   ]
  },
  {
   "cell_type": "code",
   "execution_count": 20,
   "metadata": {
    "scrolled": true
   },
   "outputs": [
    {
     "data": {
      "text/plain": [
       "                    265711\n",
       "Centro               25583\n",
       "Morumbi               9396\n",
       "Campo Belo            8859\n",
       "Moema                 8461\n",
       "                     ...  \n",
       "Jardim Prados            1\n",
       "Sabaúna                  1\n",
       "Jardim Horizonte         1\n",
       "Cuiabá                   1\n",
       "Balneária                1\n",
       "Name: Bairro, Length: 4221, dtype: int64"
      ]
     },
     "execution_count": 20,
     "metadata": {},
     "output_type": "execute_result"
    }
   ],
   "source": [
    "# there are 265711 registers without Bairro + 3733 NaN = 296587 Bairro missing values.\n",
    "new_df['Bairro'].value_counts()"
   ]
  },
  {
   "cell_type": "code",
   "execution_count": 21,
   "metadata": {},
   "outputs": [
    {
     "data": {
      "text/plain": [
       "32.90605597268291"
      ]
     },
     "execution_count": 21,
     "metadata": {},
     "output_type": "execute_result"
    }
   ],
   "source": [
    "# Vale a pena trabalhar com o atributo Bairros, uma vez que 33% do dataset esta com valores em branco ou missing?\n",
    "(265711 + 3733)/new_df.shape[0]*100"
   ]
  },
  {
   "cell_type": "code",
   "execution_count": 22,
   "metadata": {},
   "outputs": [],
   "source": [
    "# Vale mais a pena remover a coluna Bairro do que eliminar todos os registros em branco ou nulos, \n",
    "# uma vez que vamos trabalhar apenas com preços por município\n",
    "del new_df['Bairro']"
   ]
  },
  {
   "cell_type": "code",
   "execution_count": 23,
   "metadata": {},
   "outputs": [],
   "source": [
    "# Eliminação das 2 colunas  price_usd_per_m2, price_per_m2, uma vez que calcularemos o preço por m2 mais adiante no estudo.\n",
    "# Eliminação da coluna rooms pelo alto número de registros nulos também pode ser eliminada.\n",
    "del new_df['price_usd_per_m2']\n",
    "del new_df['price_per_m2']\n",
    "del new_df['rooms']"
   ]
  },
  {
   "cell_type": "code",
   "execution_count": 24,
   "metadata": {},
   "outputs": [
    {
     "data": {
      "text/plain": [
       "(818828, 9)"
      ]
     },
     "execution_count": 24,
     "metadata": {},
     "output_type": "execute_result"
    }
   ],
   "source": [
    "new_df.shape"
   ]
  },
  {
   "cell_type": "code",
   "execution_count": 25,
   "metadata": {},
   "outputs": [
    {
     "data": {
      "text/html": [
       "<div>\n",
       "<style scoped>\n",
       "    .dataframe tbody tr th:only-of-type {\n",
       "        vertical-align: middle;\n",
       "    }\n",
       "\n",
       "    .dataframe tbody tr th {\n",
       "        vertical-align: top;\n",
       "    }\n",
       "\n",
       "    .dataframe thead th {\n",
       "        text-align: right;\n",
       "    }\n",
       "</style>\n",
       "<table border=\"1\" class=\"dataframe\">\n",
       "  <thead>\n",
       "    <tr style=\"text-align: right;\">\n",
       "      <th></th>\n",
       "      <th>created_on</th>\n",
       "      <th>property_type</th>\n",
       "      <th>place_name</th>\n",
       "      <th>price</th>\n",
       "      <th>price_aprox_local_currency</th>\n",
       "      <th>price_aprox_usd</th>\n",
       "      <th>surface_covered_in_m2</th>\n",
       "      <th>Estado</th>\n",
       "      <th>Cidade</th>\n",
       "    </tr>\n",
       "  </thead>\n",
       "  <tbody>\n",
       "    <tr>\n",
       "      <th>0</th>\n",
       "      <td>2013-04-25</td>\n",
       "      <td>apartment</td>\n",
       "      <td>Mondubim</td>\n",
       "      <td>155900.0</td>\n",
       "      <td>155608.08</td>\n",
       "      <td>48648.81</td>\n",
       "      <td>NaN</td>\n",
       "      <td>Ceará</td>\n",
       "      <td>Fortaleza</td>\n",
       "    </tr>\n",
       "    <tr>\n",
       "      <th>1</th>\n",
       "      <td>2013-04-25</td>\n",
       "      <td>house</td>\n",
       "      <td>Manhuaçu</td>\n",
       "      <td>950000.0</td>\n",
       "      <td>948221.29</td>\n",
       "      <td>296448.85</td>\n",
       "      <td>NaN</td>\n",
       "      <td>Minas Gerais</td>\n",
       "      <td>Manhuaçu</td>\n",
       "    </tr>\n",
       "    <tr>\n",
       "      <th>6</th>\n",
       "      <td>2013-04-25</td>\n",
       "      <td>store</td>\n",
       "      <td>Manhuaçu</td>\n",
       "      <td>1200000.0</td>\n",
       "      <td>1197753.22</td>\n",
       "      <td>374461.71</td>\n",
       "      <td>NaN</td>\n",
       "      <td>Minas Gerais</td>\n",
       "      <td>Manhuaçu</td>\n",
       "    </tr>\n",
       "    <tr>\n",
       "      <th>7</th>\n",
       "      <td>2013-04-25</td>\n",
       "      <td>apartment</td>\n",
       "      <td>Manhuaçu</td>\n",
       "      <td>95000.0</td>\n",
       "      <td>94822.11</td>\n",
       "      <td>29644.88</td>\n",
       "      <td>NaN</td>\n",
       "      <td>Minas Gerais</td>\n",
       "      <td>Manhuaçu</td>\n",
       "    </tr>\n",
       "    <tr>\n",
       "      <th>8</th>\n",
       "      <td>2013-04-25</td>\n",
       "      <td>store</td>\n",
       "      <td>Manhuaçu</td>\n",
       "      <td>1200000.0</td>\n",
       "      <td>1197753.22</td>\n",
       "      <td>374461.71</td>\n",
       "      <td>NaN</td>\n",
       "      <td>Minas Gerais</td>\n",
       "      <td>Manhuaçu</td>\n",
       "    </tr>\n",
       "  </tbody>\n",
       "</table>\n",
       "</div>"
      ],
      "text/plain": [
       "   created_on property_type place_name      price  price_aprox_local_currency  \\\n",
       "0  2013-04-25     apartment   Mondubim   155900.0                   155608.08   \n",
       "1  2013-04-25         house   Manhuaçu   950000.0                   948221.29   \n",
       "6  2013-04-25         store   Manhuaçu  1200000.0                  1197753.22   \n",
       "7  2013-04-25     apartment   Manhuaçu    95000.0                    94822.11   \n",
       "8  2013-04-25         store   Manhuaçu  1200000.0                  1197753.22   \n",
       "\n",
       "   price_aprox_usd  surface_covered_in_m2        Estado     Cidade  \n",
       "0         48648.81                    NaN         Ceará  Fortaleza  \n",
       "1        296448.85                    NaN  Minas Gerais   Manhuaçu  \n",
       "6        374461.71                    NaN  Minas Gerais   Manhuaçu  \n",
       "7         29644.88                    NaN  Minas Gerais   Manhuaçu  \n",
       "8        374461.71                    NaN  Minas Gerais   Manhuaçu  "
      ]
     },
     "execution_count": 25,
     "metadata": {},
     "output_type": "execute_result"
    }
   ],
   "source": [
    "new_df.head()"
   ]
  },
  {
   "cell_type": "code",
   "execution_count": 26,
   "metadata": {},
   "outputs": [
    {
     "data": {
      "text/plain": [
       "created_on                         0\n",
       "property_type                      0\n",
       "place_name                         0\n",
       "price                              0\n",
       "price_aprox_local_currency         0\n",
       "price_aprox_usd                    0\n",
       "surface_covered_in_m2         221768\n",
       "Estado                             0\n",
       "Cidade                             0\n",
       "dtype: int64"
      ]
     },
     "execution_count": 26,
     "metadata": {},
     "output_type": "execute_result"
    }
   ],
   "source": [
    "# valores missing total de cada atributo\n",
    "new_df.isnull().sum()"
   ]
  },
  {
   "cell_type": "code",
   "execution_count": 27,
   "metadata": {},
   "outputs": [
    {
     "data": {
      "text/plain": [
       "(818828, 9)"
      ]
     },
     "execution_count": 27,
     "metadata": {},
     "output_type": "execute_result"
    }
   ],
   "source": [
    "new_df.shape"
   ]
  },
  {
   "cell_type": "markdown",
   "metadata": {},
   "source": [
    "## Estudo com a remoção de todos os possíveis valores NaN"
   ]
  },
  {
   "cell_type": "code",
   "execution_count": 28,
   "metadata": {},
   "outputs": [],
   "source": [
    "# Eliminado todos os valores missing do Dataset \n",
    "df_nan = new_df.dropna()   # dropna apaga registros com algum atributo nulo\n"
   ]
  },
  {
   "cell_type": "code",
   "execution_count": 29,
   "metadata": {},
   "outputs": [],
   "source": [
    "#  JÁ ELIMINAMOS A COLUNA BAIRRO não precisa mais eliminar os registros em branco de Bairro\n",
    "# df_nan = df_nan[df_nan.Bairro != '']"
   ]
  },
  {
   "cell_type": "code",
   "execution_count": 30,
   "metadata": {},
   "outputs": [
    {
     "data": {
      "text/plain": [
       "(597060, 9)"
      ]
     },
     "execution_count": 30,
     "metadata": {},
     "output_type": "execute_result"
    }
   ],
   "source": [
    "# Dimensão do Dataset\n",
    "df_nan.shape"
   ]
  },
  {
   "cell_type": "code",
   "execution_count": 31,
   "metadata": {},
   "outputs": [
    {
     "data": {
      "text/plain": [
       "created_on                    0\n",
       "property_type                 0\n",
       "place_name                    0\n",
       "price                         0\n",
       "price_aprox_local_currency    0\n",
       "price_aprox_usd               0\n",
       "surface_covered_in_m2         0\n",
       "Estado                        0\n",
       "Cidade                        0\n",
       "dtype: int64"
      ]
     },
     "execution_count": 31,
     "metadata": {},
     "output_type": "execute_result"
    }
   ],
   "source": [
    "# valores missing total de cada atributo\n",
    "df_nan.isnull().sum()"
   ]
  },
  {
   "cell_type": "code",
   "execution_count": 32,
   "metadata": {},
   "outputs": [
    {
     "data": {
      "text/plain": [
       "São Paulo              435457\n",
       "Rio Grande do Sul       49405\n",
       "Rio de Janeiro          40261\n",
       "Minas Gerais            21865\n",
       "Santa Catarina          14000\n",
       "Paraná                  10633\n",
       "Bahia                    5269\n",
       "Ceará                    4904\n",
       "Paraíba                  3551\n",
       "Espírito Santo           2886\n",
       "Distrito Federal         1872\n",
       "Rio Grande do Norte      1543\n",
       "Goiás                    1256\n",
       "Pernambuco               1245\n",
       "Pará                      967\n",
       "Mato Grosso               553\n",
       "Maranhão                  400\n",
       "Sergipe                   271\n",
       "Alagoas                   179\n",
       "Tocantins                 179\n",
       "Piauí                     149\n",
       "Mato Grosso do Sul        142\n",
       "Rondônia                   38\n",
       "Amazonas                   26\n",
       "Amapá                       6\n",
       "Acre                        3\n",
       "Name: Estado, dtype: int64"
      ]
     },
     "execution_count": 32,
     "metadata": {},
     "output_type": "execute_result"
    }
   ],
   "source": [
    "df_nan['Estado'].value_counts()"
   ]
  },
  {
   "cell_type": "code",
   "execution_count": 33,
   "metadata": {},
   "outputs": [
    {
     "data": {
      "text/plain": [
       "São Paulo                220342\n",
       "Praia Grande              34164\n",
       "Porto Alegre              34031\n",
       "Rio de Janeiro            29040\n",
       "Santo André               23791\n",
       "Belo Horizonte            16171\n",
       "Sorocaba                  13284\n",
       "São Bernardo do Campo     12508\n",
       "Campinas                  12462\n",
       "Santos                    11287\n",
       "Name: Cidade, dtype: int64"
      ]
     },
     "execution_count": 33,
     "metadata": {},
     "output_type": "execute_result"
    }
   ],
   "source": [
    "df_nan['Cidade'].value_counts().head(10)"
   ]
  },
  {
   "cell_type": "markdown",
   "metadata": {},
   "source": [
    "# observações \n",
    "\n",
    "Com a eliminação total dos registros de valores `NaN` percebe-se, com os valores acima, que os maiores registros \n",
    "preenchidos de forma completa pertencem a região sudeste. \n",
    "\n",
    "Outro ponto importante seria com relação ao número de registros. O Dataset original possui mais de 850.000 registros.\n",
    "\n",
    "Neste notebook consideramos duas alternativas que nos permitem trabalhar com um maior número de registros:\n",
    "\n",
    "Análise A - linha 22\n",
    "\n",
    "    Eliminar a coluna Bairro que apresenta muitos valores em branco ou nulos, pois trabalharemos com preço por Município.\n",
    "    \n",
    "    Eliminação total de valores `NaN` reduzindo o dataset para pouco mais de 350.000  registros.\n",
    "\n",
    "Análise B - linha 22 e linha 23\n",
    "\n",
    "    Eliminar a coluna Bairro que apresenta muitos valores em branco ou nulos , pois trabalharemos com preço por Município.\n",
    "    Eliminar as 2 colunas price_usd_per_m2, price_per_m2, uma vez que calcularemos o preço por m2 mais adiante no estudo.\n",
    "    A coluna rooms pelo alto número de valores nulos também pode ser eliminada.\n",
    "    \n",
    "    Eliminação total de valores `NaN` reduzindo o dataset para pouco mais de 597.000 registros.\n",
    "\n",
    "\n"
   ]
  },
  {
   "cell_type": "code",
   "execution_count": 35,
   "metadata": {},
   "outputs": [],
   "source": [
    "# Para manter o estudo organizado, será criado MAIS um outro arquivo csv\n",
    "# para trabalhar o dataframe sem missing values.\n",
    "\n",
    "df_nan.to_csv('df_nan.csv', index=False, sep= ',', encoding='utf-8')"
   ]
  },
  {
   "cell_type": "code",
   "execution_count": 36,
   "metadata": {},
   "outputs": [
    {
     "data": {
      "text/plain": [
       "(597060, 9)"
      ]
     },
     "execution_count": 36,
     "metadata": {},
     "output_type": "execute_result"
    }
   ],
   "source": [
    "df_nan.shape"
   ]
  }
 ],
 "metadata": {
  "kernelspec": {
   "display_name": "Python 3",
   "language": "python",
   "name": "python3"
  },
  "language_info": {
   "codemirror_mode": {
    "name": "ipython",
    "version": 3
   },
   "file_extension": ".py",
   "mimetype": "text/x-python",
   "name": "python",
   "nbconvert_exporter": "python",
   "pygments_lexer": "ipython3",
   "version": "3.7.6"
  }
 },
 "nbformat": 4,
 "nbformat_minor": 2
}
