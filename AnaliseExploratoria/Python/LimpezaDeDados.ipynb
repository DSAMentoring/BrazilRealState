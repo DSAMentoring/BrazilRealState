{
 "cells": [
  {
   "cell_type": "markdown",
   "metadata": {},
   "source": [
    "# Modelo Regressão - SP"
   ]
  },
  {
   "cell_type": "code",
   "execution_count": 1,
   "metadata": {},
   "outputs": [],
   "source": [
    "# Importação dos pacotes\n",
    "import pandas as pd\n",
    "import numpy as np\n",
    "import seaborn as sns"
   ]
  },
  {
   "cell_type": "code",
   "execution_count": 2,
   "metadata": {},
   "outputs": [
    {
     "name": "stdout",
     "output_type": "stream",
     "text": [
      "Python 3.7.3\n",
      "Author: Mentoria DSA\n",
      "\n",
      "seaborn: 0.9.0\n",
      "pandas : 0.24.2\n",
      "numpy  : 1.16.2\n",
      "\n"
     ]
    }
   ],
   "source": [
    "# Versões dos pacotes usadas neste Jupyter Notebook\n",
    "!python --version\n",
    "%reload_ext watermark\n",
    "%watermark -a \"Mentoria DSA\" --iversions"
   ]
  },
  {
   "cell_type": "code",
   "execution_count": 3,
   "metadata": {},
   "outputs": [],
   "source": [
    "df = pd.read_csv(\"../../data/properati-BR-2016-11-01-properties-sell.csv\")"
   ]
  },
  {
   "cell_type": "code",
   "execution_count": 4,
   "metadata": {},
   "outputs": [
    {
     "data": {
      "text/html": [
       "<div>\n",
       "<style scoped>\n",
       "    .dataframe tbody tr th:only-of-type {\n",
       "        vertical-align: middle;\n",
       "    }\n",
       "\n",
       "    .dataframe tbody tr th {\n",
       "        vertical-align: top;\n",
       "    }\n",
       "\n",
       "    .dataframe thead th {\n",
       "        text-align: right;\n",
       "    }\n",
       "</style>\n",
       "<table border=\"1\" class=\"dataframe\">\n",
       "  <thead>\n",
       "    <tr style=\"text-align: right;\">\n",
       "      <th></th>\n",
       "      <th>created_on</th>\n",
       "      <th>operation</th>\n",
       "      <th>property_type</th>\n",
       "      <th>place_name</th>\n",
       "      <th>place_with_parent_names</th>\n",
       "      <th>geonames_id</th>\n",
       "      <th>lat-lon</th>\n",
       "      <th>lat</th>\n",
       "      <th>lon</th>\n",
       "      <th>price</th>\n",
       "      <th>...</th>\n",
       "      <th>surface_covered_in_m2</th>\n",
       "      <th>price_usd_per_m2</th>\n",
       "      <th>price_per_m2</th>\n",
       "      <th>floor</th>\n",
       "      <th>rooms</th>\n",
       "      <th>expenses</th>\n",
       "      <th>properati_url</th>\n",
       "      <th>description</th>\n",
       "      <th>title</th>\n",
       "      <th>image_thumbnail</th>\n",
       "    </tr>\n",
       "  </thead>\n",
       "  <tbody>\n",
       "    <tr>\n",
       "      <th>0</th>\n",
       "      <td>2013-04-25</td>\n",
       "      <td>sell</td>\n",
       "      <td>apartment</td>\n",
       "      <td>Mondubim</td>\n",
       "      <td>|Brasil|Ceará|Fortaleza|Mondubim|</td>\n",
       "      <td>NaN</td>\n",
       "      <td>NaN</td>\n",
       "      <td>NaN</td>\n",
       "      <td>NaN</td>\n",
       "      <td>155900.0</td>\n",
       "      <td>...</td>\n",
       "      <td>NaN</td>\n",
       "      <td>NaN</td>\n",
       "      <td>NaN</td>\n",
       "      <td>NaN</td>\n",
       "      <td>2.0</td>\n",
       "      <td>NaN</td>\n",
       "      <td>http://mondubim.properati.com.br/px9_vende-se_...</td>\n",
       "      <td>Otimo Imovel com o melhor valor da regiao, con...</td>\n",
       "      <td>Apartamento Em Fortaleza</td>\n",
       "      <td>https://thumbs-cf.properati.com/8/EY670SQWML7c...</td>\n",
       "    </tr>\n",
       "    <tr>\n",
       "      <th>1</th>\n",
       "      <td>2013-04-25</td>\n",
       "      <td>sell</td>\n",
       "      <td>house</td>\n",
       "      <td>Manhuaçu</td>\n",
       "      <td>|Brasil|Minas Gerais|Manhuaçu|</td>\n",
       "      <td>NaN</td>\n",
       "      <td>NaN</td>\n",
       "      <td>NaN</td>\n",
       "      <td>NaN</td>\n",
       "      <td>950000.0</td>\n",
       "      <td>...</td>\n",
       "      <td>NaN</td>\n",
       "      <td>NaN</td>\n",
       "      <td>NaN</td>\n",
       "      <td>NaN</td>\n",
       "      <td>NaN</td>\n",
       "      <td>NaN</td>\n",
       "      <td>http://manhuacu.properati.com.br/pxv_vende-se_...</td>\n",
       "      <td>Otimo Imovel com o melhor valor da regiao, con...</td>\n",
       "      <td>Casa Em Manhuacu</td>\n",
       "      <td>https://thumbs-cf.properati.com/1/1VGQees9LIbx...</td>\n",
       "    </tr>\n",
       "    <tr>\n",
       "      <th>2</th>\n",
       "      <td>2013-04-25</td>\n",
       "      <td>sell</td>\n",
       "      <td>house</td>\n",
       "      <td>Ibatiba</td>\n",
       "      <td>|Brasil|Espírito Santo|Ibatiba|</td>\n",
       "      <td>NaN</td>\n",
       "      <td>NaN</td>\n",
       "      <td>NaN</td>\n",
       "      <td>NaN</td>\n",
       "      <td>NaN</td>\n",
       "      <td>...</td>\n",
       "      <td>NaN</td>\n",
       "      <td>NaN</td>\n",
       "      <td>NaN</td>\n",
       "      <td>NaN</td>\n",
       "      <td>NaN</td>\n",
       "      <td>NaN</td>\n",
       "      <td>http://ibatiba.properati.com.br/pxw_vende-se_o...</td>\n",
       "      <td>Otimo Imovel com o melhor valor da regiao, con...</td>\n",
       "      <td>Sítio Em Ibatiba</td>\n",
       "      <td>NaN</td>\n",
       "    </tr>\n",
       "    <tr>\n",
       "      <th>3</th>\n",
       "      <td>2013-04-25</td>\n",
       "      <td>sell</td>\n",
       "      <td>apartment</td>\n",
       "      <td>Manhuaçu</td>\n",
       "      <td>|Brasil|Minas Gerais|Manhuaçu|</td>\n",
       "      <td>NaN</td>\n",
       "      <td>NaN</td>\n",
       "      <td>NaN</td>\n",
       "      <td>NaN</td>\n",
       "      <td>NaN</td>\n",
       "      <td>...</td>\n",
       "      <td>NaN</td>\n",
       "      <td>NaN</td>\n",
       "      <td>NaN</td>\n",
       "      <td>NaN</td>\n",
       "      <td>NaN</td>\n",
       "      <td>NaN</td>\n",
       "      <td>http://manhuacu.properati.com.br/pxy_vende-se_...</td>\n",
       "      <td>Otimo Imovel com o melhor valor da regiao, con...</td>\n",
       "      <td>Apartamento Em Manhuacu</td>\n",
       "      <td>NaN</td>\n",
       "    </tr>\n",
       "    <tr>\n",
       "      <th>4</th>\n",
       "      <td>2013-04-25</td>\n",
       "      <td>sell</td>\n",
       "      <td>apartment</td>\n",
       "      <td>Manhuaçu</td>\n",
       "      <td>|Brasil|Minas Gerais|Manhuaçu|</td>\n",
       "      <td>NaN</td>\n",
       "      <td>NaN</td>\n",
       "      <td>NaN</td>\n",
       "      <td>NaN</td>\n",
       "      <td>NaN</td>\n",
       "      <td>...</td>\n",
       "      <td>NaN</td>\n",
       "      <td>NaN</td>\n",
       "      <td>NaN</td>\n",
       "      <td>NaN</td>\n",
       "      <td>NaN</td>\n",
       "      <td>NaN</td>\n",
       "      <td>http://manhuacu.properati.com.br/pxz_vende-se_...</td>\n",
       "      <td>Otimo Imovel com o melhor valor da regiao, con...</td>\n",
       "      <td>Apartamento Em Manhuacu</td>\n",
       "      <td>https://thumbs-cf.properati.com/2/UhPHI8dsNCb4...</td>\n",
       "    </tr>\n",
       "  </tbody>\n",
       "</table>\n",
       "<p>5 rows × 24 columns</p>\n",
       "</div>"
      ],
      "text/plain": [
       "   created_on operation property_type place_name  \\\n",
       "0  2013-04-25      sell     apartment   Mondubim   \n",
       "1  2013-04-25      sell         house   Manhuaçu   \n",
       "2  2013-04-25      sell         house    Ibatiba   \n",
       "3  2013-04-25      sell     apartment   Manhuaçu   \n",
       "4  2013-04-25      sell     apartment   Manhuaçu   \n",
       "\n",
       "             place_with_parent_names  geonames_id lat-lon  lat  lon     price  \\\n",
       "0  |Brasil|Ceará|Fortaleza|Mondubim|          NaN     NaN  NaN  NaN  155900.0   \n",
       "1     |Brasil|Minas Gerais|Manhuaçu|          NaN     NaN  NaN  NaN  950000.0   \n",
       "2    |Brasil|Espírito Santo|Ibatiba|          NaN     NaN  NaN  NaN       NaN   \n",
       "3     |Brasil|Minas Gerais|Manhuaçu|          NaN     NaN  NaN  NaN       NaN   \n",
       "4     |Brasil|Minas Gerais|Manhuaçu|          NaN     NaN  NaN  NaN       NaN   \n",
       "\n",
       "   ... surface_covered_in_m2  price_usd_per_m2  price_per_m2  floor  rooms  \\\n",
       "0  ...                   NaN               NaN           NaN    NaN    2.0   \n",
       "1  ...                   NaN               NaN           NaN    NaN    NaN   \n",
       "2  ...                   NaN               NaN           NaN    NaN    NaN   \n",
       "3  ...                   NaN               NaN           NaN    NaN    NaN   \n",
       "4  ...                   NaN               NaN           NaN    NaN    NaN   \n",
       "\n",
       "   expenses                                      properati_url  \\\n",
       "0       NaN  http://mondubim.properati.com.br/px9_vende-se_...   \n",
       "1       NaN  http://manhuacu.properati.com.br/pxv_vende-se_...   \n",
       "2       NaN  http://ibatiba.properati.com.br/pxw_vende-se_o...   \n",
       "3       NaN  http://manhuacu.properati.com.br/pxy_vende-se_...   \n",
       "4       NaN  http://manhuacu.properati.com.br/pxz_vende-se_...   \n",
       "\n",
       "                                         description  \\\n",
       "0  Otimo Imovel com o melhor valor da regiao, con...   \n",
       "1  Otimo Imovel com o melhor valor da regiao, con...   \n",
       "2  Otimo Imovel com o melhor valor da regiao, con...   \n",
       "3  Otimo Imovel com o melhor valor da regiao, con...   \n",
       "4  Otimo Imovel com o melhor valor da regiao, con...   \n",
       "\n",
       "                      title                                    image_thumbnail  \n",
       "0  Apartamento Em Fortaleza  https://thumbs-cf.properati.com/8/EY670SQWML7c...  \n",
       "1          Casa Em Manhuacu  https://thumbs-cf.properati.com/1/1VGQees9LIbx...  \n",
       "2          Sítio Em Ibatiba                                                NaN  \n",
       "3   Apartamento Em Manhuacu                                                NaN  \n",
       "4   Apartamento Em Manhuacu  https://thumbs-cf.properati.com/2/UhPHI8dsNCb4...  \n",
       "\n",
       "[5 rows x 24 columns]"
      ]
     },
     "execution_count": 4,
     "metadata": {},
     "output_type": "execute_result"
    }
   ],
   "source": [
    "df.head()"
   ]
  },
  {
   "cell_type": "code",
   "execution_count": 5,
   "metadata": {},
   "outputs": [],
   "source": [
    "# separar o endereço em três colunas\n",
    "df_adress = df['place_with_parent_names'].str.split('|', n=5 , expand=True)\n",
    "\n",
    "# renomear as novas colunas\n",
    "df_adress = df_adress.rename(columns={1: \"Pais\", 2: \"Estado\", 3: \"Cidade\", 4: \"Bairro\"})\n",
    "\n",
    "# remoção das colunas criadas 0, 5 (criadas para auxiliar na separação das colunas)\n",
    "del df_adress[0]\n",
    "del df_adress[5]\n",
    "\n",
    "# criação do novo dataset\n",
    "new_df = pd.concat([df, df_adress], axis=1)\n",
    "\n",
    "# Remoção de colunas insignificantes\n",
    "del new_df['geonames_id']\n",
    "del new_df['lat-lon']\n",
    "del new_df['lat']\n",
    "del new_df['lon']\n",
    "del new_df['floor']\n",
    "del new_df['surface_total_in_m2']\n",
    "del new_df['expenses']\n",
    "del new_df['image_thumbnail']\n",
    "del new_df['title']\n",
    "del new_df['properati_url']\n",
    "del new_df['description']\n",
    "del new_df['operation']\n",
    "del new_df['place_with_parent_names']\n",
    "\n",
    "# Remoção de registros com moedas e paises estrangeiros\n",
    "new_df = new_df[new_df['Pais'] != 'Estados Unidos']\n",
    "new_df = new_df[new_df.currency == \"BRL\"]\n",
    "\n",
    "# Com os registros de informações estrangeiras removidas, pode-se remover a coluna currency e país, uma\n",
    "# vez que será um valor único para todo o dataset.\n",
    "del new_df['currency']\n",
    "del new_df['Pais']"
   ]
  },
  {
   "cell_type": "code",
   "execution_count": 6,
   "metadata": {},
   "outputs": [
    {
     "data": {
      "text/html": [
       "<div>\n",
       "<style scoped>\n",
       "    .dataframe tbody tr th:only-of-type {\n",
       "        vertical-align: middle;\n",
       "    }\n",
       "\n",
       "    .dataframe tbody tr th {\n",
       "        vertical-align: top;\n",
       "    }\n",
       "\n",
       "    .dataframe thead th {\n",
       "        text-align: right;\n",
       "    }\n",
       "</style>\n",
       "<table border=\"1\" class=\"dataframe\">\n",
       "  <thead>\n",
       "    <tr style=\"text-align: right;\">\n",
       "      <th></th>\n",
       "      <th>created_on</th>\n",
       "      <th>property_type</th>\n",
       "      <th>place_name</th>\n",
       "      <th>price</th>\n",
       "      <th>price_aprox_local_currency</th>\n",
       "      <th>price_aprox_usd</th>\n",
       "      <th>surface_covered_in_m2</th>\n",
       "      <th>price_usd_per_m2</th>\n",
       "      <th>price_per_m2</th>\n",
       "      <th>rooms</th>\n",
       "      <th>Estado</th>\n",
       "      <th>Cidade</th>\n",
       "      <th>Bairro</th>\n",
       "    </tr>\n",
       "  </thead>\n",
       "  <tbody>\n",
       "    <tr>\n",
       "      <th>0</th>\n",
       "      <td>2013-04-25</td>\n",
       "      <td>apartment</td>\n",
       "      <td>Mondubim</td>\n",
       "      <td>155900.0</td>\n",
       "      <td>155608.08</td>\n",
       "      <td>48648.81</td>\n",
       "      <td>NaN</td>\n",
       "      <td>NaN</td>\n",
       "      <td>NaN</td>\n",
       "      <td>2.0</td>\n",
       "      <td>Ceará</td>\n",
       "      <td>Fortaleza</td>\n",
       "      <td>Mondubim</td>\n",
       "    </tr>\n",
       "    <tr>\n",
       "      <th>1</th>\n",
       "      <td>2013-04-25</td>\n",
       "      <td>house</td>\n",
       "      <td>Manhuaçu</td>\n",
       "      <td>950000.0</td>\n",
       "      <td>948221.29</td>\n",
       "      <td>296448.85</td>\n",
       "      <td>NaN</td>\n",
       "      <td>NaN</td>\n",
       "      <td>NaN</td>\n",
       "      <td>NaN</td>\n",
       "      <td>Minas Gerais</td>\n",
       "      <td>Manhuaçu</td>\n",
       "      <td></td>\n",
       "    </tr>\n",
       "    <tr>\n",
       "      <th>6</th>\n",
       "      <td>2013-04-25</td>\n",
       "      <td>store</td>\n",
       "      <td>Manhuaçu</td>\n",
       "      <td>1200000.0</td>\n",
       "      <td>1197753.22</td>\n",
       "      <td>374461.71</td>\n",
       "      <td>NaN</td>\n",
       "      <td>NaN</td>\n",
       "      <td>NaN</td>\n",
       "      <td>NaN</td>\n",
       "      <td>Minas Gerais</td>\n",
       "      <td>Manhuaçu</td>\n",
       "      <td></td>\n",
       "    </tr>\n",
       "    <tr>\n",
       "      <th>7</th>\n",
       "      <td>2013-04-25</td>\n",
       "      <td>apartment</td>\n",
       "      <td>Manhuaçu</td>\n",
       "      <td>95000.0</td>\n",
       "      <td>94822.11</td>\n",
       "      <td>29644.88</td>\n",
       "      <td>NaN</td>\n",
       "      <td>NaN</td>\n",
       "      <td>NaN</td>\n",
       "      <td>3.0</td>\n",
       "      <td>Minas Gerais</td>\n",
       "      <td>Manhuaçu</td>\n",
       "      <td></td>\n",
       "    </tr>\n",
       "    <tr>\n",
       "      <th>8</th>\n",
       "      <td>2013-04-25</td>\n",
       "      <td>store</td>\n",
       "      <td>Manhuaçu</td>\n",
       "      <td>1200000.0</td>\n",
       "      <td>1197753.22</td>\n",
       "      <td>374461.71</td>\n",
       "      <td>NaN</td>\n",
       "      <td>NaN</td>\n",
       "      <td>NaN</td>\n",
       "      <td>NaN</td>\n",
       "      <td>Minas Gerais</td>\n",
       "      <td>Manhuaçu</td>\n",
       "      <td></td>\n",
       "    </tr>\n",
       "  </tbody>\n",
       "</table>\n",
       "</div>"
      ],
      "text/plain": [
       "   created_on property_type place_name      price  price_aprox_local_currency  \\\n",
       "0  2013-04-25     apartment   Mondubim   155900.0                   155608.08   \n",
       "1  2013-04-25         house   Manhuaçu   950000.0                   948221.29   \n",
       "6  2013-04-25         store   Manhuaçu  1200000.0                  1197753.22   \n",
       "7  2013-04-25     apartment   Manhuaçu    95000.0                    94822.11   \n",
       "8  2013-04-25         store   Manhuaçu  1200000.0                  1197753.22   \n",
       "\n",
       "   price_aprox_usd  surface_covered_in_m2  price_usd_per_m2  price_per_m2  \\\n",
       "0         48648.81                    NaN               NaN           NaN   \n",
       "1        296448.85                    NaN               NaN           NaN   \n",
       "6        374461.71                    NaN               NaN           NaN   \n",
       "7         29644.88                    NaN               NaN           NaN   \n",
       "8        374461.71                    NaN               NaN           NaN   \n",
       "\n",
       "   rooms        Estado     Cidade    Bairro  \n",
       "0    2.0         Ceará  Fortaleza  Mondubim  \n",
       "1    NaN  Minas Gerais   Manhuaçu            \n",
       "6    NaN  Minas Gerais   Manhuaçu            \n",
       "7    3.0  Minas Gerais   Manhuaçu            \n",
       "8    NaN  Minas Gerais   Manhuaçu            "
      ]
     },
     "execution_count": 6,
     "metadata": {},
     "output_type": "execute_result"
    }
   ],
   "source": [
    "new_df.head()"
   ]
  },
  {
   "cell_type": "code",
   "execution_count": 7,
   "metadata": {},
   "outputs": [],
   "source": [
    "df = new_df[new_df['Estado'] == \"São Paulo\"]"
   ]
  },
  {
   "cell_type": "code",
   "execution_count": 8,
   "metadata": {},
   "outputs": [
    {
     "data": {
      "text/plain": [
       "(585485, 13)"
      ]
     },
     "execution_count": 8,
     "metadata": {},
     "output_type": "execute_result"
    }
   ],
   "source": [
    "df.shape"
   ]
  },
  {
   "cell_type": "code",
   "execution_count": 9,
   "metadata": {},
   "outputs": [
    {
     "data": {
      "text/plain": [
       "created_on                         0\n",
       "property_type                      0\n",
       "place_name                         0\n",
       "price                              0\n",
       "price_aprox_local_currency         0\n",
       "price_aprox_usd                    0\n",
       "surface_covered_in_m2         150028\n",
       "price_usd_per_m2              155203\n",
       "price_per_m2                  155203\n",
       "rooms                         169624\n",
       "Estado                             0\n",
       "Cidade                             0\n",
       "Bairro                           910\n",
       "dtype: int64"
      ]
     },
     "execution_count": 9,
     "metadata": {},
     "output_type": "execute_result"
    }
   ],
   "source": [
    "df.isnull().sum()"
   ]
  },
  {
   "cell_type": "code",
   "execution_count": 10,
   "metadata": {},
   "outputs": [
    {
     "name": "stderr",
     "output_type": "stream",
     "text": [
      "/Users/tmgoncalves/anaconda3/lib/python3.7/site-packages/ipykernel_launcher.py:2: SettingWithCopyWarning: \n",
      "A value is trying to be set on a copy of a slice from a DataFrame.\n",
      "Try using .loc[row_indexer,col_indexer] = value instead\n",
      "\n",
      "See the caveats in the documentation: http://pandas.pydata.org/pandas-docs/stable/indexing.html#indexing-view-versus-copy\n",
      "  \n",
      "/Users/tmgoncalves/anaconda3/lib/python3.7/site-packages/ipykernel_launcher.py:3: SettingWithCopyWarning: \n",
      "A value is trying to be set on a copy of a slice from a DataFrame.\n",
      "Try using .loc[row_indexer,col_indexer] = value instead\n",
      "\n",
      "See the caveats in the documentation: http://pandas.pydata.org/pandas-docs/stable/indexing.html#indexing-view-versus-copy\n",
      "  This is separate from the ipykernel package so we can avoid doing imports until\n",
      "/Users/tmgoncalves/anaconda3/lib/python3.7/site-packages/ipykernel_launcher.py:4: SettingWithCopyWarning: \n",
      "A value is trying to be set on a copy of a slice from a DataFrame.\n",
      "Try using .loc[row_indexer,col_indexer] = value instead\n",
      "\n",
      "See the caveats in the documentation: http://pandas.pydata.org/pandas-docs/stable/indexing.html#indexing-view-versus-copy\n",
      "  after removing the cwd from sys.path.\n",
      "/Users/tmgoncalves/anaconda3/lib/python3.7/site-packages/ipykernel_launcher.py:5: SettingWithCopyWarning: \n",
      "A value is trying to be set on a copy of a slice from a DataFrame.\n",
      "Try using .loc[row_indexer,col_indexer] = value instead\n",
      "\n",
      "See the caveats in the documentation: http://pandas.pydata.org/pandas-docs/stable/indexing.html#indexing-view-versus-copy\n",
      "  \"\"\"\n"
     ]
    }
   ],
   "source": [
    "# alterando o tipo da variável \"property_type\" para int\n",
    "df['property_type'] = df['property_type'].replace(\"apartment\", 1)\n",
    "df['property_type'] = df['property_type'].replace(\"house\", 2)\n",
    "df['property_type'] = df['property_type'].replace(\"store\", 3)\n",
    "df['property_type'] = df['property_type'].replace(\"PH\", 4)"
   ]
  },
  {
   "cell_type": "code",
   "execution_count": 11,
   "metadata": {},
   "outputs": [
    {
     "data": {
      "text/html": [
       "<div>\n",
       "<style scoped>\n",
       "    .dataframe tbody tr th:only-of-type {\n",
       "        vertical-align: middle;\n",
       "    }\n",
       "\n",
       "    .dataframe tbody tr th {\n",
       "        vertical-align: top;\n",
       "    }\n",
       "\n",
       "    .dataframe thead th {\n",
       "        text-align: right;\n",
       "    }\n",
       "</style>\n",
       "<table border=\"1\" class=\"dataframe\">\n",
       "  <thead>\n",
       "    <tr style=\"text-align: right;\">\n",
       "      <th></th>\n",
       "      <th>created_on</th>\n",
       "      <th>property_type</th>\n",
       "      <th>place_name</th>\n",
       "      <th>price</th>\n",
       "      <th>price_aprox_local_currency</th>\n",
       "      <th>price_aprox_usd</th>\n",
       "      <th>surface_covered_in_m2</th>\n",
       "      <th>price_usd_per_m2</th>\n",
       "      <th>price_per_m2</th>\n",
       "      <th>rooms</th>\n",
       "      <th>Estado</th>\n",
       "      <th>Cidade</th>\n",
       "      <th>Bairro</th>\n",
       "    </tr>\n",
       "  </thead>\n",
       "  <tbody>\n",
       "    <tr>\n",
       "      <th>33</th>\n",
       "      <td>2013-04-25</td>\n",
       "      <td>1</td>\n",
       "      <td>Ponta da Praia</td>\n",
       "      <td>230000.0</td>\n",
       "      <td>229569.34</td>\n",
       "      <td>71771.82</td>\n",
       "      <td>NaN</td>\n",
       "      <td>NaN</td>\n",
       "      <td>NaN</td>\n",
       "      <td>1.0</td>\n",
       "      <td>São Paulo</td>\n",
       "      <td>Santos</td>\n",
       "      <td>Ponta da Praia</td>\n",
       "    </tr>\n",
       "    <tr>\n",
       "      <th>34</th>\n",
       "      <td>2013-04-25</td>\n",
       "      <td>2</td>\n",
       "      <td>Guarujá</td>\n",
       "      <td>400000.0</td>\n",
       "      <td>399251.07</td>\n",
       "      <td>124820.57</td>\n",
       "      <td>NaN</td>\n",
       "      <td>NaN</td>\n",
       "      <td>NaN</td>\n",
       "      <td>2.0</td>\n",
       "      <td>São Paulo</td>\n",
       "      <td>Guarujá</td>\n",
       "      <td></td>\n",
       "    </tr>\n",
       "    <tr>\n",
       "      <th>35</th>\n",
       "      <td>2013-04-25</td>\n",
       "      <td>2</td>\n",
       "      <td>São Vicente</td>\n",
       "      <td>180000.0</td>\n",
       "      <td>179662.96</td>\n",
       "      <td>56169.25</td>\n",
       "      <td>NaN</td>\n",
       "      <td>NaN</td>\n",
       "      <td>NaN</td>\n",
       "      <td>2.0</td>\n",
       "      <td>São Paulo</td>\n",
       "      <td>São Vicente</td>\n",
       "      <td></td>\n",
       "    </tr>\n",
       "    <tr>\n",
       "      <th>36</th>\n",
       "      <td>2013-04-25</td>\n",
       "      <td>2</td>\n",
       "      <td>São Vicente</td>\n",
       "      <td>190000.0</td>\n",
       "      <td>189644.25</td>\n",
       "      <td>59289.77</td>\n",
       "      <td>NaN</td>\n",
       "      <td>NaN</td>\n",
       "      <td>NaN</td>\n",
       "      <td>2.0</td>\n",
       "      <td>São Paulo</td>\n",
       "      <td>São Vicente</td>\n",
       "      <td></td>\n",
       "    </tr>\n",
       "    <tr>\n",
       "      <th>37</th>\n",
       "      <td>2013-04-25</td>\n",
       "      <td>1</td>\n",
       "      <td>São Vicente</td>\n",
       "      <td>195000.0</td>\n",
       "      <td>194634.87</td>\n",
       "      <td>60850.02</td>\n",
       "      <td>NaN</td>\n",
       "      <td>NaN</td>\n",
       "      <td>NaN</td>\n",
       "      <td>2.0</td>\n",
       "      <td>São Paulo</td>\n",
       "      <td>São Vicente</td>\n",
       "      <td></td>\n",
       "    </tr>\n",
       "  </tbody>\n",
       "</table>\n",
       "</div>"
      ],
      "text/plain": [
       "    created_on  property_type      place_name     price  \\\n",
       "33  2013-04-25              1  Ponta da Praia  230000.0   \n",
       "34  2013-04-25              2         Guarujá  400000.0   \n",
       "35  2013-04-25              2     São Vicente  180000.0   \n",
       "36  2013-04-25              2     São Vicente  190000.0   \n",
       "37  2013-04-25              1     São Vicente  195000.0   \n",
       "\n",
       "    price_aprox_local_currency  price_aprox_usd  surface_covered_in_m2  \\\n",
       "33                   229569.34         71771.82                    NaN   \n",
       "34                   399251.07        124820.57                    NaN   \n",
       "35                   179662.96         56169.25                    NaN   \n",
       "36                   189644.25         59289.77                    NaN   \n",
       "37                   194634.87         60850.02                    NaN   \n",
       "\n",
       "    price_usd_per_m2  price_per_m2  rooms     Estado       Cidade  \\\n",
       "33               NaN           NaN    1.0  São Paulo       Santos   \n",
       "34               NaN           NaN    2.0  São Paulo      Guarujá   \n",
       "35               NaN           NaN    2.0  São Paulo  São Vicente   \n",
       "36               NaN           NaN    2.0  São Paulo  São Vicente   \n",
       "37               NaN           NaN    2.0  São Paulo  São Vicente   \n",
       "\n",
       "            Bairro  \n",
       "33  Ponta da Praia  \n",
       "34                  \n",
       "35                  \n",
       "36                  \n",
       "37                  "
      ]
     },
     "execution_count": 11,
     "metadata": {},
     "output_type": "execute_result"
    }
   ],
   "source": [
    "df.head()"
   ]
  },
  {
   "cell_type": "code",
   "execution_count": null,
   "metadata": {},
   "outputs": [],
   "source": [
    "df = pd.read_csv(\"../../data/df_sp.csv\")"
   ]
  },
  {
   "cell_type": "code",
   "execution_count": null,
   "metadata": {},
   "outputs": [],
   "source": [
    "# alterando o tipo da variável \"property_type\" para int\n",
    "df['property_type'] = df['property_type'].replace(\"apartment\", 1)\n",
    "df['property_type'] = df['property_type'].replace(\"house\", 2)\n",
    "df['property_type'] = df['property_type'].replace(\"store\", 3)\n",
    "df['property_type'] = df['property_type'].replace(\"PH\", 1)"
   ]
  },
  {
   "cell_type": "code",
   "execution_count": null,
   "metadata": {},
   "outputs": [],
   "source": [
    "df.head()"
   ]
  },
  {
   "cell_type": "code",
   "execution_count": 12,
   "metadata": {},
   "outputs": [
    {
     "name": "stderr",
     "output_type": "stream",
     "text": [
      "'c' argument looks like a single numeric RGB or RGBA sequence, which should be avoided as value-mapping will have precedence in case its length matches with 'x' & 'y'.  Please use a 2-D array with a single row if you really want to specify the same RGB or RGBA value for all points.\n"
     ]
    },
    {
     "data": {
      "text/plain": [
       "<matplotlib.axes._subplots.AxesSubplot at 0x7fc22044bac8>"
      ]
     },
     "execution_count": 12,
     "metadata": {},
     "output_type": "execute_result"
    },
    {
     "data": {
      "image/png": "[encoded data removed]",
      "text/plain": [
       "<Figure size 432x288 with 1 Axes>"
      ]
     },
     "metadata": {
      "needs_background": "light"
     },
     "output_type": "display_data"
    }
   ],
   "source": [
    "# identificação dos outliers do preços\n",
    "sns.boxenplot(df['price'])"
   ]
  },
  {
   "cell_type": "code",
   "execution_count": 13,
   "metadata": {},
   "outputs": [],
   "source": [
    "df_filter = df[df['price'] < 1000000]"
   ]
  },
  {
   "cell_type": "code",
   "execution_count": 14,
   "metadata": {},
   "outputs": [
    {
     "name": "stderr",
     "output_type": "stream",
     "text": [
      "'c' argument looks like a single numeric RGB or RGBA sequence, which should be avoided as value-mapping will have precedence in case its length matches with 'x' & 'y'.  Please use a 2-D array with a single row if you really want to specify the same RGB or RGBA value for all points.\n"
     ]
    },
    {
     "data": {
      "text/plain": [
       "<matplotlib.axes._subplots.AxesSubplot at 0x7fc27b870780>"
      ]
     },
     "execution_count": 14,
     "metadata": {},
     "output_type": "execute_result"
    },
    {
     "data": {
      "image/png": "[encoded data removed]",
      "text/plain": [
       "<Figure size 432x288 with 1 Axes>"
      ]
     },
     "metadata": {
      "needs_background": "light"
     },
     "output_type": "display_data"
    }
   ],
   "source": [
    "# identificação dos outliers do preços\n",
    "sns.boxenplot(df_filter['price'])"
   ]
  },
  {
   "cell_type": "code",
   "execution_count": 15,
   "metadata": {},
   "outputs": [
    {
     "data": {
      "text/plain": [
       "452327"
      ]
     },
     "execution_count": 15,
     "metadata": {},
     "output_type": "execute_result"
    }
   ],
   "source": [
    "len(df_filter)"
   ]
  },
  {
   "cell_type": "code",
   "execution_count": 17,
   "metadata": {},
   "outputs": [
    {
     "data": {
      "text/plain": [
       "created_on                         0\n",
       "property_type                      0\n",
       "place_name                         0\n",
       "price                              0\n",
       "price_aprox_local_currency         0\n",
       "price_aprox_usd                    0\n",
       "surface_covered_in_m2         119592\n",
       "price_usd_per_m2              123728\n",
       "price_per_m2                  123728\n",
       "rooms                         118561\n",
       "Estado                             0\n",
       "Cidade                             0\n",
       "Bairro                           800\n",
       "dtype: int64"
      ]
     },
     "execution_count": 17,
     "metadata": {},
     "output_type": "execute_result"
    }
   ],
   "source": [
    "df_filter.isnull().sum()"
   ]
  },
  {
   "cell_type": "code",
   "execution_count": 18,
   "metadata": {},
   "outputs": [],
   "source": [
    "# Para manter o estudo organizado, será criado um outro arquivo csv\n",
    "# para trabalhar o dataframe sem missing values.\n",
    "df_filter.to_csv('df_treat.csv', index=False, sep= ',', encoding='utf-8')"
   ]
  },
  {
   "cell_type": "code",
   "execution_count": null,
   "metadata": {},
   "outputs": [],
   "source": []
  }
 ],
 "metadata": {
  "kernelspec": {
   "display_name": "Python 3",
   "language": "python",
   "name": "python3"
  },
  "language_info": {
   "codemirror_mode": {
    "name": "ipython",
    "version": 3
   },
   "file_extension": ".py",
   "mimetype": "text/x-python",
   "name": "python",
   "nbconvert_exporter": "python",
   "pygments_lexer": "ipython3",
   "version": "3.7.3"
  }
 },
 "nbformat": 4,
 "nbformat_minor": 2
}
